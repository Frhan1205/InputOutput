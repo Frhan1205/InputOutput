{
 "cells": [
  {
   "cell_type": "markdown",
   "id": "61a8eac5",
   "metadata": {},
   "source": [
    "Input"
   ]
  },
  {
   "cell_type": "code",
   "execution_count": 1,
   "id": "4048c925",
   "metadata": {},
   "outputs": [
    {
     "name": "stdout",
     "output_type": "stream",
     "text": [
      "Isikan bilangan 1 :2\n",
      "Isikan bilangan 2 :3\n",
      "Hasil dari 2 + 3 = 5\n"
     ]
    }
   ],
   "source": [
    "bil1 = input('Isikan bilangan 1 :')\n",
    "bil2 = input('Isikan bilangan 2 :')\n",
    "hasil = int(bil1) + int(bil2)\n",
    "print(\"Hasil dari\",bil1,\"+\",bil2,'=',hasil)"
   ]
  },
  {
   "cell_type": "markdown",
   "id": "b456471a",
   "metadata": {},
   "source": [
    "2. Program untuk menghitung luas dan keliling persegi panjang"
   ]
  },
  {
   "cell_type": "code",
   "execution_count": 1,
   "id": "002186a5",
   "metadata": {},
   "outputs": [
    {
     "name": "stdout",
     "output_type": "stream",
     "text": [
      "Isikan bilangan 1 : 5\n",
      "Isikan bilangan 2 : 5\n",
      "Hasil luas = 25\n",
      "Hasil Keliling = 20\n"
     ]
    }
   ],
   "source": [
    "bil1 = input('Isikan bilangan 1 : ')\n",
    "bil2 = input('Isikan bilangan 2 : ')\n",
    "luas = int(bil1) * int(bil2)\n",
    "keliling = 2*(int(bil1) + int(bil2))\n",
    "print(\"Hasil luas\",'=',luas)\n",
    "print(\"Hasil Keliling\",'=',keliling)"
   ]
  },
  {
   "cell_type": "markdown",
   "id": "bb764bc4",
   "metadata": {},
   "source": [
    "3. Cara melakukan print dengan menambahkan end di akhir baris"
   ]
  },
  {
   "cell_type": "code",
   "execution_count": 4,
   "id": "86448783",
   "metadata": {},
   "outputs": [
    {
     "name": "stdout",
     "output_type": "stream",
     "text": [
      "A@_@B@_@C@_@D\n"
     ]
    }
   ],
   "source": [
    "print('A','B','C','D', sep='@_@')"
   ]
  },
  {
   "cell_type": "code",
   "execution_count": 7,
   "id": "3928e282",
   "metadata": {},
   "outputs": [
    {
     "name": "stdout",
     "output_type": "stream",
     "text": [
      "A\n",
      "B\n",
      "C\n",
      "D T_T"
     ]
    }
   ],
   "source": [
    "print('A','B','C','D', sep='\\n' ,end=\" T_T\")"
   ]
  },
  {
   "cell_type": "markdown",
   "id": "a14f859b",
   "metadata": {},
   "source": [
    "<h1>Memformat dengan index<h1>"
   ]
  },
  {
   "cell_type": "code",
   "execution_count": 13,
   "id": "c54ea028",
   "metadata": {},
   "outputs": [
    {
     "name": "stdout",
     "output_type": "stream",
     "text": [
      "Hasil dari 8 modulus 10 = 8\n"
     ]
    }
   ],
   "source": [
    "num_1 = 8\n",
    "num_2 = 10\n",
    "\n",
    "# Hasil dari 8 modulus 10 = 8\n",
    "# str.format()\n",
    "print('Hasil dari {} modulus {} = {}'.format(num_1,num_2,num_1%num_2))"
   ]
  },
  {
   "cell_type": "markdown",
   "id": "1d3fe96f",
   "metadata": {},
   "source": [
    "<h1>Memformat dengan key (kunci)<h1>"
   ]
  },
  {
   "cell_type": "code",
   "execution_count": 45,
   "id": "9ae210ae",
   "metadata": {},
   "outputs": [
    {
     "name": "stdout",
     "output_type": "stream",
     "text": [
      "Nama anda Baek Songmin\n"
     ]
    }
   ],
   "source": [
    "fname = \"Baek\"\n",
    "mname = \"Song\"\n",
    "lname = \"min\"\n",
    "\n",
    "print('Nama anda {0} {1}{2}'.format(fname,mname,lname))"
   ]
  },
  {
   "cell_type": "code",
   "execution_count": 53,
   "id": "761417d8",
   "metadata": {},
   "outputs": [
    {
     "name": "stdout",
     "output_type": "stream",
     "text": [
      "Nama anda Farhan, nilai anda 100\n"
     ]
    }
   ],
   "source": [
    "print('Nama anda {nama}, nilai anda {nilai}'.format(nama='Farhan',nilai=100))"
   ]
  },
  {
   "cell_type": "markdown",
   "id": "b9472404",
   "metadata": {},
   "source": [
    "<h1>Pengenalan String<h1>"
   ]
  },
  {
   "cell_type": "code",
   "execution_count": 81,
   "id": "ac2d3927",
   "metadata": {},
   "outputs": [
    {
     "name": "stdout",
     "output_type": "stream",
     "text": [
      "Karakter pertama :  U\n",
      "Karakter pertama :  a\n",
      "Universitas\n",
      "Nusa\n",
      "Putra\n",
      "Putra\n",
      "artuP asuN satisrevinU\n"
     ]
    }
   ],
   "source": [
    " univ = 'Universitas Nusa Putra'\n",
    "\n",
    "print('Karakter pertama : ', univ[0])\n",
    "print('Karakter pertama : ', univ[-1])\n",
    "#Universitas\n",
    "print(univ[0:11])\n",
    "print(univ[-10:-6])\n",
    "print(univ[-5:])\n",
    "print(univ[17:])\n",
    "print(univ [::-1])"
   ]
  },
  {
   "cell_type": "code",
   "execution_count": 86,
   "id": "23ee9af1",
   "metadata": {},
   "outputs": [
    {
     "name": "stdout",
     "output_type": "stream",
     "text": [
      "Nama saya Farhan Rizki\n",
      "Hasil Penjumlahan 100 + 20 = 120\n"
     ]
    }
   ],
   "source": [
    "f_name = 'Farhan'\n",
    "l_name = 'Rizki'\n",
    "\n",
    "print(f'Nama saya {f_name} {l_name}')\n",
    "\n",
    "first = 100\n",
    "second = 20\n",
    "\n",
    "print(f'Hasil Penjumlahan {first} + {second} = {first+second}')"
   ]
  },
  {
   "cell_type": "markdown",
   "id": "a68103b6",
   "metadata": {},
   "source": [
    "<h1> Fungsi String<h1>"
   ]
  },
  {
   "cell_type": "code",
   "execution_count": 8,
   "id": "1c57950b",
   "metadata": {},
   "outputs": [
    {
     "name": "stdout",
     "output_type": "stream",
     "text": [
      "['Andri', 'Budi', 'Cika']\n",
      "['Andri', 'Budi', 'Cika']\n",
      "Andri@Budi@Cika\n"
     ]
    }
   ],
   "source": [
    "nama = \"Andri,Budi,Cika\"\n",
    "nama2 = \"Andri Budi Cika\"\n",
    "\n",
    "print(nama2.split())\n",
    "print(nama.split(','))\n",
    "\n",
    "#join -> Menggabungkan string kedalam kumpulan karakter\n",
    "print('@'.join(nama.split(',')))\n"
   ]
  },
  {
   "cell_type": "markdown",
   "id": "5bfa3274",
   "metadata": {},
   "source": [
    "Program Input Output"
   ]
  },
  {
   "cell_type": "code",
   "execution_count": 7,
   "id": "62caa46b",
   "metadata": {},
   "outputs": [
    {
     "name": "stdout",
     "output_type": "stream",
     "text": [
      "Masukan Tanggal Lahir : 12/23/2005\n",
      "Masukan Nama : farhan rizki\n",
      "Tanggal : 12, Bulan:23,Tahun:2005\n",
      "Nama Inisial : fr\n"
     ]
    }
   ],
   "source": [
    "#input tgl lahir-> 18/Oktober/2010\n",
    "#input nama  -> Bill Gates\n",
    "#output: \n",
    "#Tgl : 18, Bulan:Oktober, Tahun:2010\n",
    "#Nama Inisial : BG\n",
    "\n",
    "tgl = input(\"Masukan Tanggal Lahir : \")\n",
    "nama = input(\"Masukan Nama : \")\n",
    "pemisah = tgl.split('/')\n",
    "print(f\"Tanggal : {pemisah[0]}, Bulan:{pemisah[1]},Tahun:{pemisah[2]}\")\n",
    "pemisah2 = nama.split()\n",
    "nama_pertama = pemisah2[0]\n",
    "nama_terakhir = pemisah2[1]\n",
    "print(f\"Nama Inisial : {nama_pertama[0]+nama_terakhir[0]}\")"
   ]
  }
 ],
 "metadata": {
  "kernelspec": {
   "display_name": "Python 3 (ipykernel)",
   "language": "python",
   "name": "python3"
  },
  "language_info": {
   "codemirror_mode": {
    "name": "ipython",
    "version": 3
   },
   "file_extension": ".py",
   "mimetype": "text/x-python",
   "name": "python",
   "nbconvert_exporter": "python",
   "pygments_lexer": "ipython3",
   "version": "3.9.12"
  }
 },
 "nbformat": 4,
 "nbformat_minor": 5
}
